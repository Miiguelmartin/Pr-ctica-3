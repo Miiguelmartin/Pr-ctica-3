{
  "nbformat": 4,
  "nbformat_minor": 0,
  "metadata": {
    "colab": {
      "name": "Untitled1.ipynb",
      "provenance": [],
      "authorship_tag": "ABX9TyOgMDvBKmFpgU5/aclx0cxv",
      "include_colab_link": true
    },
    "kernelspec": {
      "name": "python3",
      "display_name": "Python 3"
    },
    "language_info": {
      "name": "python"
    }
  },
  "cells": [
    {
      "cell_type": "markdown",
      "metadata": {
        "id": "view-in-github",
        "colab_type": "text"
      },
      "source": [
        "<a href=\"https://colab.research.google.com/github/Miiguelmartin/Pr-ctica-3/blob/main/Pr%C3%A1ctica%203.ipynb\" target=\"_parent\"><img src=\"https://colab.research.google.com/assets/colab-badge.svg\" alt=\"Open In Colab\"/></a>"
      ]
    },
    {
      "cell_type": "code",
      "execution_count": 1,
      "metadata": {
        "colab": {
          "base_uri": "https://localhost:8080/"
        },
        "id": "0ZkF4nj4fWMb",
        "outputId": "39e67cd1-49d4-4938-d06a-a2e2fe1a1d59"
      },
      "outputs": [
        {
          "output_type": "stream",
          "name": "stdout",
          "text": [
            "Tipo de opción: 1 Call, 2 Put. Indique 1 o 2. 1\n",
            "Tipo de la opción: CALL\n",
            "Precio Spot del activo subyacente: 300\n",
            "Precio spot= 300.0\n",
            "Precio de ejercicio: Strik: 300\n",
            "strik= 300.0\n",
            "Duración en años: 4\n",
            "años= 4.0\n",
            "Volatilidad anual, por ejemplo 0.2: 0.1\n",
            "Volatilidad= 10.0 %\n",
            "Número de pasos del arbol binomial, por ejemplo 4: 4\n",
            "Número de pasos del arbol binomial= 4\n",
            "Rentabilidad libre de riesgo. Por ejemplo para un 7% poner 0.07: 0.08\n",
            "Tipo de interés= 8.0 %\n",
            "Tanto instantáneo= 7.696104113612839 %\n",
            "u= 1.1051709180756477 p= 0.8743549228129044 deltaT= 1.0\n",
            "Prima estimada= 79.78645197806769\n"
          ]
        }
      ],
      "source": [
        "# Estimación del precio de una opción por árboles binomiales\n",
        "import numpy as np\n",
        "from scipy.stats import binom\n",
        "#Datos de entrada\n",
        "tipo=input('Tipo de opción: 1 Call, 2 Put. Indique 1 o 2. ') or '1'\n",
        "if tipo=='1':\n",
        "  print('Tipo de la opción: CALL')\n",
        "if tipo=='2':\n",
        "  print('Tipo de la opción: PUT')\n",
        "spot=float(input('Precio Spot del activo subyacente: ') or 300)\n",
        "print('Precio spot=',spot)\n",
        "strik=float(input('Precio de ejercicio: Strik: ') or 300)\n",
        "print('strik=',strik)\n",
        "anyos=float(input('Duración en años: ') or 4)\n",
        "print('años=',anyos)\n",
        "volatilidad=float(input('Volatilidad anual, por ejemplo 0.2: ') or 0.1)\n",
        "print('Volatilidad=',volatilidad*100,'%')\n",
        "n=int(input('Número de pasos del arbol binomial, por ejemplo 4: ') or 4)\n",
        "print('Número de pasos del arbol binomial=',n)\n",
        "tInt=float(input('Rentabilidad libre de riesgo. Por ejemplo para un 7% poner 0.07: ') or 0.08)\n",
        "print('Tipo de interés=',tInt*100,'%')\n",
        "r=np.log(1+tInt)  # r es el tanto instantáneo\n",
        "print('Tanto instantáneo=',r*100,'%')\n",
        "# log es el neperiano. Ejemplo np.log(np.e) es igua a 1\n",
        "#Calculo de r,u,d,p,deltaT\n",
        "deltaT=anyos/n\n",
        "u=np.exp(volatilidad*np.sqrt(deltaT))\n",
        "d=1/u\n",
        "p=(np.exp(r*deltaT)-d)/(u-d)\n",
        "#Generación de los precios esperados del activo subyacente a fecha de vencimiento\n",
        "Sn=[0]*(n+1) #Sn es la lista de precios del activo subyacene a fecha de vto.\n",
        "print('u=',u,'p=',p,'deltaT=',deltaT)\n",
        "for i in range(n+1):\n",
        "  Sn[i]=spot*u**(n-i)*d**i\n",
        "  #print('Sn(',i,')=',Sn[i])\n",
        "#calculamos el payoff según sea un Call o un Put\n",
        "payoff=[0]*(n+1) #inicilizamos a cero la lista del payoff\n",
        "for i in range(n+1):\n",
        "  if tipo=='1':\n",
        "    payoff[i]=max(0,Sn[i]-strik)\n",
        "  if tipo=='2':\n",
        "    payoff[i]=max(0,strik-Sn[i])\n",
        "  #print('payoff(',i,')=',payoff[i])\n",
        "  #print('binomial(',i,')=',binom.pmf(n-i, n, p))\n",
        "#cálculo de la prima estimada\n",
        "prima=0\n",
        "for i in range(n+1):\n",
        "  prima+=payoff[i]*binom.pmf(n-i, n, p)\n",
        "prima=prima*np.exp(-r*anyos) #descontamos a valor actual, hasta t=0\n",
        "print('Prima estimada=',prima)"
      ]
    }
  ]
}